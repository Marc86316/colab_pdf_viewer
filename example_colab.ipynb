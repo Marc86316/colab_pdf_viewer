{
 "cells": [
  {
   "cell_type": "markdown",
   "id": "65b7af73",
   "metadata": {},
   "source": [
    "# 📄 colab_pdf_viewer - Example Usage\n",
    "This notebook demonstrates how to use the `colab-pdf-viewer` package to display a PDF from a URL."
   ]
  },
  {
   "cell_type": "code",
   "execution_count": null,
   "id": "419a4381",
   "metadata": {},
   "outputs": [],
   "source": [
    "# Step 1: Install dependencies\n",
    "!apt-get -y install poppler-utils\n",
    "!pip install colab-pdf-viewer"
   ]
  },
  {
   "cell_type": "code",
   "execution_count": null,
   "id": "558cb457",
   "metadata": {},
   "outputs": [],
   "source": [
    "# Step 2: Import and run viewer\n",
    "from pdf_viewer import display_scrollable_pdf_from_url\n",
    "\n",
    "display_scrollable_pdf_from_url(\n",
    "    \"https://raw.githubusercontent.com/Marc86316/DataCamp/main/Courses/Sampling_in_Python/ch3_Relative_error_of_point_estimates.pdf",\n",
    "    width=800,\n",
    "    height=450\n",
    ")"
   ]
  }
 ],
 "metadata": {
  "language_info": {
   "name": "python"
  }
 },
 "nbformat": 4,
 "nbformat_minor": 5
}
